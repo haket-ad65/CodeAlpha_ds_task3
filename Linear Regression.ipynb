{
 "cells": [
  {
   "cell_type": "markdown",
   "id": "d19cf4e1",
   "metadata": {},
   "source": [
    "# The linear regression model based on continous target variable\n"
   ]
  },
  {
   "cell_type": "markdown",
   "id": "ac4c115b",
   "metadata": {},
   "source": [
    "## Importing the important python libraries and reading the csv dataset\n"
   ]
  },
  {
   "cell_type": "code",
   "execution_count": 1,
   "id": "b036597f",
   "metadata": {},
   "outputs": [],
   "source": [
    "import numpy as np\n",
    "import pandas as pd\n",
    "import seaborn as sns\n",
    "import matplotlib.pyplot as plt\n",
    "from sklearn.model_selection import train_test_split\n",
    "from sklearn.preprocessing import StandardScaler\n",
    "sc=StandardScaler()\n",
    "from sklearn.linear_model import LinearRegression\n",
    "from sklearn.metrics import mean_squared_error\n",
    "import joblib"
   ]
  },
  {
   "cell_type": "code",
   "execution_count": 2,
   "id": "67b9ccc1",
   "metadata": {},
   "outputs": [],
   "source": [
    "df = pd.read_csv('zomato.csv')"
   ]
  },
  {
   "cell_type": "code",
   "execution_count": 3,
   "id": "61e5701f",
   "metadata": {},
   "outputs": [
    {
     "data": {
      "text/html": [
       "<div>\n",
       "<style scoped>\n",
       "    .dataframe tbody tr th:only-of-type {\n",
       "        vertical-align: middle;\n",
       "    }\n",
       "\n",
       "    .dataframe tbody tr th {\n",
       "        vertical-align: top;\n",
       "    }\n",
       "\n",
       "    .dataframe thead th {\n",
       "        text-align: right;\n",
       "    }\n",
       "</style>\n",
       "<table border=\"1\" class=\"dataframe\">\n",
       "  <thead>\n",
       "    <tr style=\"text-align: right;\">\n",
       "      <th></th>\n",
       "      <th>Unnamed: 0.1</th>\n",
       "      <th>Unnamed: 0</th>\n",
       "      <th>restaurant name</th>\n",
       "      <th>restaurant type</th>\n",
       "      <th>rate (out of 5)</th>\n",
       "      <th>num of ratings</th>\n",
       "      <th>avg cost (two people)</th>\n",
       "      <th>online_order</th>\n",
       "      <th>table booking</th>\n",
       "      <th>cuisines type</th>\n",
       "      <th>area</th>\n",
       "      <th>local address</th>\n",
       "    </tr>\n",
       "  </thead>\n",
       "  <tbody>\n",
       "    <tr>\n",
       "      <th>0</th>\n",
       "      <td>0</td>\n",
       "      <td>0</td>\n",
       "      <td>#FeelTheROLL</td>\n",
       "      <td>Quick Bites</td>\n",
       "      <td>3.4</td>\n",
       "      <td>7</td>\n",
       "      <td>200.0</td>\n",
       "      <td>No</td>\n",
       "      <td>No</td>\n",
       "      <td>Fast Food</td>\n",
       "      <td>Bellandur</td>\n",
       "      <td>Bellandur</td>\n",
       "    </tr>\n",
       "    <tr>\n",
       "      <th>1</th>\n",
       "      <td>1</td>\n",
       "      <td>1</td>\n",
       "      <td>#L-81 Cafe</td>\n",
       "      <td>Quick Bites</td>\n",
       "      <td>3.9</td>\n",
       "      <td>48</td>\n",
       "      <td>400.0</td>\n",
       "      <td>Yes</td>\n",
       "      <td>No</td>\n",
       "      <td>Fast Food, Beverages</td>\n",
       "      <td>Byresandra,Tavarekere,Madiwala</td>\n",
       "      <td>HSR</td>\n",
       "    </tr>\n",
       "    <tr>\n",
       "      <th>2</th>\n",
       "      <td>2</td>\n",
       "      <td>2</td>\n",
       "      <td>#refuel</td>\n",
       "      <td>Cafe</td>\n",
       "      <td>3.7</td>\n",
       "      <td>37</td>\n",
       "      <td>400.0</td>\n",
       "      <td>Yes</td>\n",
       "      <td>No</td>\n",
       "      <td>Cafe, Beverages</td>\n",
       "      <td>Bannerghatta Road</td>\n",
       "      <td>Bannerghatta Road</td>\n",
       "    </tr>\n",
       "    <tr>\n",
       "      <th>3</th>\n",
       "      <td>3</td>\n",
       "      <td>3</td>\n",
       "      <td>'@ Biryani Central</td>\n",
       "      <td>Casual Dining</td>\n",
       "      <td>2.7</td>\n",
       "      <td>135</td>\n",
       "      <td>550.0</td>\n",
       "      <td>Yes</td>\n",
       "      <td>No</td>\n",
       "      <td>Biryani, Mughlai, Chinese</td>\n",
       "      <td>Marathahalli</td>\n",
       "      <td>Marathahalli</td>\n",
       "    </tr>\n",
       "    <tr>\n",
       "      <th>4</th>\n",
       "      <td>4</td>\n",
       "      <td>4</td>\n",
       "      <td>'@ The Bbq</td>\n",
       "      <td>Casual Dining</td>\n",
       "      <td>2.8</td>\n",
       "      <td>40</td>\n",
       "      <td>700.0</td>\n",
       "      <td>Yes</td>\n",
       "      <td>No</td>\n",
       "      <td>BBQ, Continental, North Indian, Chinese, Bever...</td>\n",
       "      <td>Bellandur</td>\n",
       "      <td>Bellandur</td>\n",
       "    </tr>\n",
       "    <tr>\n",
       "      <th>...</th>\n",
       "      <td>...</td>\n",
       "      <td>...</td>\n",
       "      <td>...</td>\n",
       "      <td>...</td>\n",
       "      <td>...</td>\n",
       "      <td>...</td>\n",
       "      <td>...</td>\n",
       "      <td>...</td>\n",
       "      <td>...</td>\n",
       "      <td>...</td>\n",
       "      <td>...</td>\n",
       "      <td>...</td>\n",
       "    </tr>\n",
       "    <tr>\n",
       "      <th>7100</th>\n",
       "      <td>7100</td>\n",
       "      <td>7100</td>\n",
       "      <td>Zoey's</td>\n",
       "      <td>Cafe</td>\n",
       "      <td>4.3</td>\n",
       "      <td>894</td>\n",
       "      <td>600.0</td>\n",
       "      <td>Yes</td>\n",
       "      <td>No</td>\n",
       "      <td>Cafe, Italian, Continental, Burger</td>\n",
       "      <td>Bellandur</td>\n",
       "      <td>Sarjapur Road</td>\n",
       "    </tr>\n",
       "    <tr>\n",
       "      <th>7101</th>\n",
       "      <td>7101</td>\n",
       "      <td>7101</td>\n",
       "      <td>ZOROY Luxury Chocolate</td>\n",
       "      <td>Dessert Parlor</td>\n",
       "      <td>4.0</td>\n",
       "      <td>68</td>\n",
       "      <td>250.0</td>\n",
       "      <td>Yes</td>\n",
       "      <td>No</td>\n",
       "      <td>Desserts</td>\n",
       "      <td>Brigade Road</td>\n",
       "      <td>Church Street</td>\n",
       "    </tr>\n",
       "    <tr>\n",
       "      <th>7102</th>\n",
       "      <td>7102</td>\n",
       "      <td>7102</td>\n",
       "      <td>Zu's Doner Kebaps</td>\n",
       "      <td>Takeaway, Delivery</td>\n",
       "      <td>3.7</td>\n",
       "      <td>33</td>\n",
       "      <td>350.0</td>\n",
       "      <td>No</td>\n",
       "      <td>No</td>\n",
       "      <td>Turkish, Fast Food, Biryani, Chinese</td>\n",
       "      <td>Malleshwaram</td>\n",
       "      <td>RT Nagar</td>\n",
       "    </tr>\n",
       "    <tr>\n",
       "      <th>7103</th>\n",
       "      <td>7103</td>\n",
       "      <td>7103</td>\n",
       "      <td>Zyara</td>\n",
       "      <td>Casual Dining</td>\n",
       "      <td>3.8</td>\n",
       "      <td>191</td>\n",
       "      <td>650.0</td>\n",
       "      <td>Yes</td>\n",
       "      <td>No</td>\n",
       "      <td>North Indian, Mughlai, Chinese</td>\n",
       "      <td>Kammanahalli</td>\n",
       "      <td>HBR Layout</td>\n",
       "    </tr>\n",
       "    <tr>\n",
       "      <th>7104</th>\n",
       "      <td>7104</td>\n",
       "      <td>7104</td>\n",
       "      <td>Zyksha</td>\n",
       "      <td>Food Truck</td>\n",
       "      <td>3.4</td>\n",
       "      <td>9</td>\n",
       "      <td>200.0</td>\n",
       "      <td>No</td>\n",
       "      <td>No</td>\n",
       "      <td>Fast Food</td>\n",
       "      <td>Bannerghatta Road</td>\n",
       "      <td>South Bangalore</td>\n",
       "    </tr>\n",
       "  </tbody>\n",
       "</table>\n",
       "<p>7105 rows × 12 columns</p>\n",
       "</div>"
      ],
      "text/plain": [
       "      Unnamed: 0.1  Unnamed: 0         restaurant name     restaurant type  \\\n",
       "0                0           0            #FeelTheROLL         Quick Bites   \n",
       "1                1           1              #L-81 Cafe         Quick Bites   \n",
       "2                2           2                 #refuel                Cafe   \n",
       "3                3           3      '@ Biryani Central       Casual Dining   \n",
       "4                4           4              '@ The Bbq       Casual Dining   \n",
       "...            ...         ...                     ...                 ...   \n",
       "7100          7100        7100                  Zoey's                Cafe   \n",
       "7101          7101        7101  ZOROY Luxury Chocolate      Dessert Parlor   \n",
       "7102          7102        7102       Zu's Doner Kebaps  Takeaway, Delivery   \n",
       "7103          7103        7103                   Zyara       Casual Dining   \n",
       "7104          7104        7104                  Zyksha          Food Truck   \n",
       "\n",
       "      rate (out of 5)  num of ratings  avg cost (two people) online_order  \\\n",
       "0                 3.4               7                  200.0           No   \n",
       "1                 3.9              48                  400.0          Yes   \n",
       "2                 3.7              37                  400.0          Yes   \n",
       "3                 2.7             135                  550.0          Yes   \n",
       "4                 2.8              40                  700.0          Yes   \n",
       "...               ...             ...                    ...          ...   \n",
       "7100              4.3             894                  600.0          Yes   \n",
       "7101              4.0              68                  250.0          Yes   \n",
       "7102              3.7              33                  350.0           No   \n",
       "7103              3.8             191                  650.0          Yes   \n",
       "7104              3.4               9                  200.0           No   \n",
       "\n",
       "     table booking                                      cuisines type  \\\n",
       "0               No                                          Fast Food   \n",
       "1               No                               Fast Food, Beverages   \n",
       "2               No                                    Cafe, Beverages   \n",
       "3               No                          Biryani, Mughlai, Chinese   \n",
       "4               No  BBQ, Continental, North Indian, Chinese, Bever...   \n",
       "...            ...                                                ...   \n",
       "7100            No                 Cafe, Italian, Continental, Burger   \n",
       "7101            No                                           Desserts   \n",
       "7102            No               Turkish, Fast Food, Biryani, Chinese   \n",
       "7103            No                     North Indian, Mughlai, Chinese   \n",
       "7104            No                                          Fast Food   \n",
       "\n",
       "                                area      local address  \n",
       "0                          Bellandur          Bellandur  \n",
       "1     Byresandra,Tavarekere,Madiwala                HSR  \n",
       "2                  Bannerghatta Road  Bannerghatta Road  \n",
       "3                       Marathahalli       Marathahalli  \n",
       "4                          Bellandur          Bellandur  \n",
       "...                              ...                ...  \n",
       "7100                       Bellandur      Sarjapur Road  \n",
       "7101                    Brigade Road      Church Street  \n",
       "7102                    Malleshwaram           RT Nagar  \n",
       "7103                    Kammanahalli         HBR Layout  \n",
       "7104               Bannerghatta Road    South Bangalore  \n",
       "\n",
       "[7105 rows x 12 columns]"
      ]
     },
     "execution_count": 3,
     "metadata": {},
     "output_type": "execute_result"
    }
   ],
   "source": [
    "df"
   ]
  },
  {
   "cell_type": "markdown",
   "id": "dd77bc5e",
   "metadata": {},
   "source": [
    "# Data Preprocessing and Cleaning"
   ]
  },
  {
   "cell_type": "code",
   "execution_count": 4,
   "id": "9b72e4c8",
   "metadata": {},
   "outputs": [
    {
     "data": {
      "text/html": [
       "<div>\n",
       "<style scoped>\n",
       "    .dataframe tbody tr th:only-of-type {\n",
       "        vertical-align: middle;\n",
       "    }\n",
       "\n",
       "    .dataframe tbody tr th {\n",
       "        vertical-align: top;\n",
       "    }\n",
       "\n",
       "    .dataframe thead th {\n",
       "        text-align: right;\n",
       "    }\n",
       "</style>\n",
       "<table border=\"1\" class=\"dataframe\">\n",
       "  <thead>\n",
       "    <tr style=\"text-align: right;\">\n",
       "      <th></th>\n",
       "      <th>Unnamed: 0.1</th>\n",
       "      <th>Unnamed: 0</th>\n",
       "      <th>restaurant name</th>\n",
       "      <th>restaurant type</th>\n",
       "      <th>rate (out of 5)</th>\n",
       "      <th>num of ratings</th>\n",
       "      <th>avg cost (two people)</th>\n",
       "      <th>online_order</th>\n",
       "      <th>table booking</th>\n",
       "      <th>cuisines type</th>\n",
       "      <th>area</th>\n",
       "      <th>local address</th>\n",
       "    </tr>\n",
       "  </thead>\n",
       "  <tbody>\n",
       "    <tr>\n",
       "      <th>0</th>\n",
       "      <td>0</td>\n",
       "      <td>0</td>\n",
       "      <td>#FeelTheROLL</td>\n",
       "      <td>Quick Bites</td>\n",
       "      <td>3.4</td>\n",
       "      <td>7</td>\n",
       "      <td>200.0</td>\n",
       "      <td>No</td>\n",
       "      <td>No</td>\n",
       "      <td>Fast Food</td>\n",
       "      <td>Bellandur</td>\n",
       "      <td>Bellandur</td>\n",
       "    </tr>\n",
       "    <tr>\n",
       "      <th>1</th>\n",
       "      <td>1</td>\n",
       "      <td>1</td>\n",
       "      <td>#L-81 Cafe</td>\n",
       "      <td>Quick Bites</td>\n",
       "      <td>3.9</td>\n",
       "      <td>48</td>\n",
       "      <td>400.0</td>\n",
       "      <td>Yes</td>\n",
       "      <td>No</td>\n",
       "      <td>Fast Food, Beverages</td>\n",
       "      <td>Byresandra,Tavarekere,Madiwala</td>\n",
       "      <td>HSR</td>\n",
       "    </tr>\n",
       "    <tr>\n",
       "      <th>2</th>\n",
       "      <td>2</td>\n",
       "      <td>2</td>\n",
       "      <td>#refuel</td>\n",
       "      <td>Cafe</td>\n",
       "      <td>3.7</td>\n",
       "      <td>37</td>\n",
       "      <td>400.0</td>\n",
       "      <td>Yes</td>\n",
       "      <td>No</td>\n",
       "      <td>Cafe, Beverages</td>\n",
       "      <td>Bannerghatta Road</td>\n",
       "      <td>Bannerghatta Road</td>\n",
       "    </tr>\n",
       "    <tr>\n",
       "      <th>3</th>\n",
       "      <td>3</td>\n",
       "      <td>3</td>\n",
       "      <td>'@ Biryani Central</td>\n",
       "      <td>Casual Dining</td>\n",
       "      <td>2.7</td>\n",
       "      <td>135</td>\n",
       "      <td>550.0</td>\n",
       "      <td>Yes</td>\n",
       "      <td>No</td>\n",
       "      <td>Biryani, Mughlai, Chinese</td>\n",
       "      <td>Marathahalli</td>\n",
       "      <td>Marathahalli</td>\n",
       "    </tr>\n",
       "    <tr>\n",
       "      <th>4</th>\n",
       "      <td>4</td>\n",
       "      <td>4</td>\n",
       "      <td>'@ The Bbq</td>\n",
       "      <td>Casual Dining</td>\n",
       "      <td>2.8</td>\n",
       "      <td>40</td>\n",
       "      <td>700.0</td>\n",
       "      <td>Yes</td>\n",
       "      <td>No</td>\n",
       "      <td>BBQ, Continental, North Indian, Chinese, Bever...</td>\n",
       "      <td>Bellandur</td>\n",
       "      <td>Bellandur</td>\n",
       "    </tr>\n",
       "  </tbody>\n",
       "</table>\n",
       "</div>"
      ],
      "text/plain": [
       "   Unnamed: 0.1  Unnamed: 0     restaurant name restaurant type  \\\n",
       "0             0           0        #FeelTheROLL     Quick Bites   \n",
       "1             1           1          #L-81 Cafe     Quick Bites   \n",
       "2             2           2             #refuel            Cafe   \n",
       "3             3           3  '@ Biryani Central   Casual Dining   \n",
       "4             4           4          '@ The Bbq   Casual Dining   \n",
       "\n",
       "   rate (out of 5)  num of ratings  avg cost (two people) online_order  \\\n",
       "0              3.4               7                  200.0           No   \n",
       "1              3.9              48                  400.0          Yes   \n",
       "2              3.7              37                  400.0          Yes   \n",
       "3              2.7             135                  550.0          Yes   \n",
       "4              2.8              40                  700.0          Yes   \n",
       "\n",
       "  table booking                                      cuisines type  \\\n",
       "0            No                                          Fast Food   \n",
       "1            No                               Fast Food, Beverages   \n",
       "2            No                                    Cafe, Beverages   \n",
       "3            No                          Biryani, Mughlai, Chinese   \n",
       "4            No  BBQ, Continental, North Indian, Chinese, Bever...   \n",
       "\n",
       "                             area      local address  \n",
       "0                       Bellandur          Bellandur  \n",
       "1  Byresandra,Tavarekere,Madiwala                HSR  \n",
       "2               Bannerghatta Road  Bannerghatta Road  \n",
       "3                    Marathahalli       Marathahalli  \n",
       "4                       Bellandur          Bellandur  "
      ]
     },
     "execution_count": 4,
     "metadata": {},
     "output_type": "execute_result"
    }
   ],
   "source": [
    "df.head()"
   ]
  },
  {
   "cell_type": "code",
   "execution_count": 5,
   "id": "e6c7cad7",
   "metadata": {},
   "outputs": [
    {
     "data": {
      "text/html": [
       "<div>\n",
       "<style scoped>\n",
       "    .dataframe tbody tr th:only-of-type {\n",
       "        vertical-align: middle;\n",
       "    }\n",
       "\n",
       "    .dataframe tbody tr th {\n",
       "        vertical-align: top;\n",
       "    }\n",
       "\n",
       "    .dataframe thead th {\n",
       "        text-align: right;\n",
       "    }\n",
       "</style>\n",
       "<table border=\"1\" class=\"dataframe\">\n",
       "  <thead>\n",
       "    <tr style=\"text-align: right;\">\n",
       "      <th></th>\n",
       "      <th>Unnamed: 0.1</th>\n",
       "      <th>Unnamed: 0</th>\n",
       "      <th>restaurant name</th>\n",
       "      <th>restaurant type</th>\n",
       "      <th>rate (out of 5)</th>\n",
       "      <th>num of ratings</th>\n",
       "      <th>avg cost (two people)</th>\n",
       "      <th>online_order</th>\n",
       "      <th>table booking</th>\n",
       "      <th>cuisines type</th>\n",
       "      <th>area</th>\n",
       "      <th>local address</th>\n",
       "    </tr>\n",
       "  </thead>\n",
       "  <tbody>\n",
       "    <tr>\n",
       "      <th>7100</th>\n",
       "      <td>7100</td>\n",
       "      <td>7100</td>\n",
       "      <td>Zoey's</td>\n",
       "      <td>Cafe</td>\n",
       "      <td>4.3</td>\n",
       "      <td>894</td>\n",
       "      <td>600.0</td>\n",
       "      <td>Yes</td>\n",
       "      <td>No</td>\n",
       "      <td>Cafe, Italian, Continental, Burger</td>\n",
       "      <td>Bellandur</td>\n",
       "      <td>Sarjapur Road</td>\n",
       "    </tr>\n",
       "    <tr>\n",
       "      <th>7101</th>\n",
       "      <td>7101</td>\n",
       "      <td>7101</td>\n",
       "      <td>ZOROY Luxury Chocolate</td>\n",
       "      <td>Dessert Parlor</td>\n",
       "      <td>4.0</td>\n",
       "      <td>68</td>\n",
       "      <td>250.0</td>\n",
       "      <td>Yes</td>\n",
       "      <td>No</td>\n",
       "      <td>Desserts</td>\n",
       "      <td>Brigade Road</td>\n",
       "      <td>Church Street</td>\n",
       "    </tr>\n",
       "    <tr>\n",
       "      <th>7102</th>\n",
       "      <td>7102</td>\n",
       "      <td>7102</td>\n",
       "      <td>Zu's Doner Kebaps</td>\n",
       "      <td>Takeaway, Delivery</td>\n",
       "      <td>3.7</td>\n",
       "      <td>33</td>\n",
       "      <td>350.0</td>\n",
       "      <td>No</td>\n",
       "      <td>No</td>\n",
       "      <td>Turkish, Fast Food, Biryani, Chinese</td>\n",
       "      <td>Malleshwaram</td>\n",
       "      <td>RT Nagar</td>\n",
       "    </tr>\n",
       "    <tr>\n",
       "      <th>7103</th>\n",
       "      <td>7103</td>\n",
       "      <td>7103</td>\n",
       "      <td>Zyara</td>\n",
       "      <td>Casual Dining</td>\n",
       "      <td>3.8</td>\n",
       "      <td>191</td>\n",
       "      <td>650.0</td>\n",
       "      <td>Yes</td>\n",
       "      <td>No</td>\n",
       "      <td>North Indian, Mughlai, Chinese</td>\n",
       "      <td>Kammanahalli</td>\n",
       "      <td>HBR Layout</td>\n",
       "    </tr>\n",
       "    <tr>\n",
       "      <th>7104</th>\n",
       "      <td>7104</td>\n",
       "      <td>7104</td>\n",
       "      <td>Zyksha</td>\n",
       "      <td>Food Truck</td>\n",
       "      <td>3.4</td>\n",
       "      <td>9</td>\n",
       "      <td>200.0</td>\n",
       "      <td>No</td>\n",
       "      <td>No</td>\n",
       "      <td>Fast Food</td>\n",
       "      <td>Bannerghatta Road</td>\n",
       "      <td>South Bangalore</td>\n",
       "    </tr>\n",
       "  </tbody>\n",
       "</table>\n",
       "</div>"
      ],
      "text/plain": [
       "      Unnamed: 0.1  Unnamed: 0         restaurant name     restaurant type  \\\n",
       "7100          7100        7100                  Zoey's                Cafe   \n",
       "7101          7101        7101  ZOROY Luxury Chocolate      Dessert Parlor   \n",
       "7102          7102        7102       Zu's Doner Kebaps  Takeaway, Delivery   \n",
       "7103          7103        7103                   Zyara       Casual Dining   \n",
       "7104          7104        7104                  Zyksha          Food Truck   \n",
       "\n",
       "      rate (out of 5)  num of ratings  avg cost (two people) online_order  \\\n",
       "7100              4.3             894                  600.0          Yes   \n",
       "7101              4.0              68                  250.0          Yes   \n",
       "7102              3.7              33                  350.0           No   \n",
       "7103              3.8             191                  650.0          Yes   \n",
       "7104              3.4               9                  200.0           No   \n",
       "\n",
       "     table booking                         cuisines type               area  \\\n",
       "7100            No    Cafe, Italian, Continental, Burger          Bellandur   \n",
       "7101            No                              Desserts       Brigade Road   \n",
       "7102            No  Turkish, Fast Food, Biryani, Chinese       Malleshwaram   \n",
       "7103            No        North Indian, Mughlai, Chinese       Kammanahalli   \n",
       "7104            No                             Fast Food  Bannerghatta Road   \n",
       "\n",
       "        local address  \n",
       "7100    Sarjapur Road  \n",
       "7101    Church Street  \n",
       "7102         RT Nagar  \n",
       "7103       HBR Layout  \n",
       "7104  South Bangalore  "
      ]
     },
     "execution_count": 5,
     "metadata": {},
     "output_type": "execute_result"
    }
   ],
   "source": [
    "df.tail()"
   ]
  },
  {
   "cell_type": "code",
   "execution_count": 6,
   "id": "82d7a015",
   "metadata": {},
   "outputs": [
    {
     "data": {
      "text/html": [
       "<div>\n",
       "<style scoped>\n",
       "    .dataframe tbody tr th:only-of-type {\n",
       "        vertical-align: middle;\n",
       "    }\n",
       "\n",
       "    .dataframe tbody tr th {\n",
       "        vertical-align: top;\n",
       "    }\n",
       "\n",
       "    .dataframe thead th {\n",
       "        text-align: right;\n",
       "    }\n",
       "</style>\n",
       "<table border=\"1\" class=\"dataframe\">\n",
       "  <thead>\n",
       "    <tr style=\"text-align: right;\">\n",
       "      <th></th>\n",
       "      <th>Unnamed: 0.1</th>\n",
       "      <th>Unnamed: 0</th>\n",
       "      <th>rate (out of 5)</th>\n",
       "      <th>num of ratings</th>\n",
       "      <th>avg cost (two people)</th>\n",
       "    </tr>\n",
       "  </thead>\n",
       "  <tbody>\n",
       "    <tr>\n",
       "      <th>count</th>\n",
       "      <td>7105.000000</td>\n",
       "      <td>7105.000000</td>\n",
       "      <td>7037.000000</td>\n",
       "      <td>7105.000000</td>\n",
       "      <td>7048.000000</td>\n",
       "    </tr>\n",
       "    <tr>\n",
       "      <th>mean</th>\n",
       "      <td>3552.000000</td>\n",
       "      <td>3552.000000</td>\n",
       "      <td>3.514253</td>\n",
       "      <td>188.921042</td>\n",
       "      <td>540.286464</td>\n",
       "    </tr>\n",
       "    <tr>\n",
       "      <th>std</th>\n",
       "      <td>2051.181164</td>\n",
       "      <td>2051.181164</td>\n",
       "      <td>0.463249</td>\n",
       "      <td>592.171049</td>\n",
       "      <td>462.902305</td>\n",
       "    </tr>\n",
       "    <tr>\n",
       "      <th>min</th>\n",
       "      <td>0.000000</td>\n",
       "      <td>0.000000</td>\n",
       "      <td>1.800000</td>\n",
       "      <td>1.000000</td>\n",
       "      <td>40.000000</td>\n",
       "    </tr>\n",
       "    <tr>\n",
       "      <th>25%</th>\n",
       "      <td>1776.000000</td>\n",
       "      <td>1776.000000</td>\n",
       "      <td>3.200000</td>\n",
       "      <td>16.000000</td>\n",
       "      <td>300.000000</td>\n",
       "    </tr>\n",
       "    <tr>\n",
       "      <th>50%</th>\n",
       "      <td>3552.000000</td>\n",
       "      <td>3552.000000</td>\n",
       "      <td>3.500000</td>\n",
       "      <td>40.000000</td>\n",
       "      <td>400.000000</td>\n",
       "    </tr>\n",
       "    <tr>\n",
       "      <th>75%</th>\n",
       "      <td>5328.000000</td>\n",
       "      <td>5328.000000</td>\n",
       "      <td>3.800000</td>\n",
       "      <td>128.000000</td>\n",
       "      <td>600.000000</td>\n",
       "    </tr>\n",
       "    <tr>\n",
       "      <th>max</th>\n",
       "      <td>7104.000000</td>\n",
       "      <td>7104.000000</td>\n",
       "      <td>4.900000</td>\n",
       "      <td>16345.000000</td>\n",
       "      <td>6000.000000</td>\n",
       "    </tr>\n",
       "  </tbody>\n",
       "</table>\n",
       "</div>"
      ],
      "text/plain": [
       "       Unnamed: 0.1   Unnamed: 0  rate (out of 5)  num of ratings  \\\n",
       "count   7105.000000  7105.000000      7037.000000     7105.000000   \n",
       "mean    3552.000000  3552.000000         3.514253      188.921042   \n",
       "std     2051.181164  2051.181164         0.463249      592.171049   \n",
       "min        0.000000     0.000000         1.800000        1.000000   \n",
       "25%     1776.000000  1776.000000         3.200000       16.000000   \n",
       "50%     3552.000000  3552.000000         3.500000       40.000000   \n",
       "75%     5328.000000  5328.000000         3.800000      128.000000   \n",
       "max     7104.000000  7104.000000         4.900000    16345.000000   \n",
       "\n",
       "       avg cost (two people)  \n",
       "count            7048.000000  \n",
       "mean              540.286464  \n",
       "std               462.902305  \n",
       "min                40.000000  \n",
       "25%               300.000000  \n",
       "50%               400.000000  \n",
       "75%               600.000000  \n",
       "max              6000.000000  "
      ]
     },
     "execution_count": 6,
     "metadata": {},
     "output_type": "execute_result"
    }
   ],
   "source": [
    "df.describe()"
   ]
  },
  {
   "cell_type": "code",
   "execution_count": 7,
   "id": "e5e6eb1a",
   "metadata": {},
   "outputs": [
    {
     "name": "stdout",
     "output_type": "stream",
     "text": [
      "<class 'pandas.core.frame.DataFrame'>\n",
      "RangeIndex: 7105 entries, 0 to 7104\n",
      "Data columns (total 12 columns):\n",
      " #   Column                 Non-Null Count  Dtype  \n",
      "---  ------                 --------------  -----  \n",
      " 0   Unnamed: 0.1           7105 non-null   int64  \n",
      " 1   Unnamed: 0             7105 non-null   int64  \n",
      " 2   restaurant name        7105 non-null   object \n",
      " 3   restaurant type        7105 non-null   object \n",
      " 4   rate (out of 5)        7037 non-null   float64\n",
      " 5   num of ratings         7105 non-null   int64  \n",
      " 6   avg cost (two people)  7048 non-null   float64\n",
      " 7   online_order           7105 non-null   object \n",
      " 8   table booking          7105 non-null   object \n",
      " 9   cuisines type          7105 non-null   object \n",
      " 10  area                   7105 non-null   object \n",
      " 11  local address          7105 non-null   object \n",
      "dtypes: float64(2), int64(3), object(7)\n",
      "memory usage: 666.2+ KB\n"
     ]
    }
   ],
   "source": [
    "df.info()\n"
   ]
  },
  {
   "cell_type": "code",
   "execution_count": 8,
   "id": "6a7ee404",
   "metadata": {},
   "outputs": [
    {
     "data": {
      "text/plain": [
       "Unnamed: 0.1              0\n",
       "Unnamed: 0                0\n",
       "restaurant name           0\n",
       "restaurant type           0\n",
       "rate (out of 5)          68\n",
       "num of ratings            0\n",
       "avg cost (two people)    57\n",
       "online_order              0\n",
       "table booking             0\n",
       "cuisines type             0\n",
       "area                      0\n",
       "local address             0\n",
       "dtype: int64"
      ]
     },
     "execution_count": 8,
     "metadata": {},
     "output_type": "execute_result"
    }
   ],
   "source": [
    "df.isnull().sum()"
   ]
  },
  {
   "cell_type": "code",
   "execution_count": 9,
   "id": "76c9bc24",
   "metadata": {},
   "outputs": [
    {
     "data": {
      "text/plain": [
       "Index(['Unnamed: 0.1', 'Unnamed: 0', 'restaurant name', 'restaurant type',\n",
       "       'rate (out of 5)', 'num of ratings', 'avg cost (two people)',\n",
       "       'online_order', 'table booking', 'cuisines type', 'area',\n",
       "       'local address'],\n",
       "      dtype='object')"
      ]
     },
     "execution_count": 9,
     "metadata": {},
     "output_type": "execute_result"
    }
   ],
   "source": [
    "df.columns"
   ]
  },
  {
   "cell_type": "code",
   "execution_count": 10,
   "id": "0b06204c",
   "metadata": {},
   "outputs": [],
   "source": [
    "df = df.dropna()"
   ]
  },
  {
   "cell_type": "code",
   "execution_count": 11,
   "id": "3adfbafc",
   "metadata": {},
   "outputs": [
    {
     "data": {
      "text/plain": [
       "((6984, 12),\n",
       " Unnamed: 0.1             0\n",
       " Unnamed: 0               0\n",
       " restaurant name          0\n",
       " restaurant type          0\n",
       " rate (out of 5)          0\n",
       " num of ratings           0\n",
       " avg cost (two people)    0\n",
       " online_order             0\n",
       " table booking            0\n",
       " cuisines type            0\n",
       " area                     0\n",
       " local address            0\n",
       " dtype: int64)"
      ]
     },
     "execution_count": 11,
     "metadata": {},
     "output_type": "execute_result"
    }
   ],
   "source": [
    "remaining_null_values = df.isnull().sum()\n",
    "df_shape = df.shape\n",
    "df_shape, remaining_null_values"
   ]
  },
  {
   "cell_type": "code",
   "execution_count": 12,
   "id": "5fe66cb1",
   "metadata": {},
   "outputs": [
    {
     "data": {
      "text/html": [
       "<div>\n",
       "<style scoped>\n",
       "    .dataframe tbody tr th:only-of-type {\n",
       "        vertical-align: middle;\n",
       "    }\n",
       "\n",
       "    .dataframe tbody tr th {\n",
       "        vertical-align: top;\n",
       "    }\n",
       "\n",
       "    .dataframe thead th {\n",
       "        text-align: right;\n",
       "    }\n",
       "</style>\n",
       "<table border=\"1\" class=\"dataframe\">\n",
       "  <thead>\n",
       "    <tr style=\"text-align: right;\">\n",
       "      <th></th>\n",
       "      <th>Unnamed: 0.1</th>\n",
       "      <th>Unnamed: 0</th>\n",
       "      <th>restaurant name</th>\n",
       "      <th>restaurant type</th>\n",
       "      <th>rate (out of 5)</th>\n",
       "      <th>num of ratings</th>\n",
       "      <th>avg cost (two people)</th>\n",
       "      <th>online_order</th>\n",
       "      <th>table booking</th>\n",
       "      <th>cuisines type</th>\n",
       "      <th>area</th>\n",
       "      <th>local address</th>\n",
       "    </tr>\n",
       "  </thead>\n",
       "  <tbody>\n",
       "    <tr>\n",
       "      <th>0</th>\n",
       "      <td>0</td>\n",
       "      <td>0</td>\n",
       "      <td>#FeelTheROLL</td>\n",
       "      <td>Quick Bites</td>\n",
       "      <td>3.4</td>\n",
       "      <td>7</td>\n",
       "      <td>200.0</td>\n",
       "      <td>No</td>\n",
       "      <td>No</td>\n",
       "      <td>Fast Food</td>\n",
       "      <td>Bellandur</td>\n",
       "      <td>Bellandur</td>\n",
       "    </tr>\n",
       "    <tr>\n",
       "      <th>1</th>\n",
       "      <td>1</td>\n",
       "      <td>1</td>\n",
       "      <td>#L-81 Cafe</td>\n",
       "      <td>Quick Bites</td>\n",
       "      <td>3.9</td>\n",
       "      <td>48</td>\n",
       "      <td>400.0</td>\n",
       "      <td>Yes</td>\n",
       "      <td>No</td>\n",
       "      <td>Fast Food, Beverages</td>\n",
       "      <td>Byresandra,Tavarekere,Madiwala</td>\n",
       "      <td>HSR</td>\n",
       "    </tr>\n",
       "    <tr>\n",
       "      <th>2</th>\n",
       "      <td>2</td>\n",
       "      <td>2</td>\n",
       "      <td>#refuel</td>\n",
       "      <td>Cafe</td>\n",
       "      <td>3.7</td>\n",
       "      <td>37</td>\n",
       "      <td>400.0</td>\n",
       "      <td>Yes</td>\n",
       "      <td>No</td>\n",
       "      <td>Cafe, Beverages</td>\n",
       "      <td>Bannerghatta Road</td>\n",
       "      <td>Bannerghatta Road</td>\n",
       "    </tr>\n",
       "    <tr>\n",
       "      <th>3</th>\n",
       "      <td>3</td>\n",
       "      <td>3</td>\n",
       "      <td>'@ Biryani Central</td>\n",
       "      <td>Casual Dining</td>\n",
       "      <td>2.7</td>\n",
       "      <td>135</td>\n",
       "      <td>550.0</td>\n",
       "      <td>Yes</td>\n",
       "      <td>No</td>\n",
       "      <td>Biryani, Mughlai, Chinese</td>\n",
       "      <td>Marathahalli</td>\n",
       "      <td>Marathahalli</td>\n",
       "    </tr>\n",
       "    <tr>\n",
       "      <th>4</th>\n",
       "      <td>4</td>\n",
       "      <td>4</td>\n",
       "      <td>'@ The Bbq</td>\n",
       "      <td>Casual Dining</td>\n",
       "      <td>2.8</td>\n",
       "      <td>40</td>\n",
       "      <td>700.0</td>\n",
       "      <td>Yes</td>\n",
       "      <td>No</td>\n",
       "      <td>BBQ, Continental, North Indian, Chinese, Bever...</td>\n",
       "      <td>Bellandur</td>\n",
       "      <td>Bellandur</td>\n",
       "    </tr>\n",
       "  </tbody>\n",
       "</table>\n",
       "</div>"
      ],
      "text/plain": [
       "   Unnamed: 0.1  Unnamed: 0     restaurant name restaurant type  \\\n",
       "0             0           0        #FeelTheROLL     Quick Bites   \n",
       "1             1           1          #L-81 Cafe     Quick Bites   \n",
       "2             2           2             #refuel            Cafe   \n",
       "3             3           3  '@ Biryani Central   Casual Dining   \n",
       "4             4           4          '@ The Bbq   Casual Dining   \n",
       "\n",
       "   rate (out of 5)  num of ratings  avg cost (two people) online_order  \\\n",
       "0              3.4               7                  200.0           No   \n",
       "1              3.9              48                  400.0          Yes   \n",
       "2              3.7              37                  400.0          Yes   \n",
       "3              2.7             135                  550.0          Yes   \n",
       "4              2.8              40                  700.0          Yes   \n",
       "\n",
       "  table booking                                      cuisines type  \\\n",
       "0            No                                          Fast Food   \n",
       "1            No                               Fast Food, Beverages   \n",
       "2            No                                    Cafe, Beverages   \n",
       "3            No                          Biryani, Mughlai, Chinese   \n",
       "4            No  BBQ, Continental, North Indian, Chinese, Bever...   \n",
       "\n",
       "                             area      local address  \n",
       "0                       Bellandur          Bellandur  \n",
       "1  Byresandra,Tavarekere,Madiwala                HSR  \n",
       "2               Bannerghatta Road  Bannerghatta Road  \n",
       "3                    Marathahalli       Marathahalli  \n",
       "4                       Bellandur          Bellandur  "
      ]
     },
     "execution_count": 12,
     "metadata": {},
     "output_type": "execute_result"
    }
   ],
   "source": [
    "df.head()"
   ]
  },
  {
   "cell_type": "code",
   "execution_count": 13,
   "id": "89015c69",
   "metadata": {},
   "outputs": [
    {
     "data": {
      "text/plain": [
       "(6984, 12)"
      ]
     },
     "execution_count": 13,
     "metadata": {},
     "output_type": "execute_result"
    }
   ],
   "source": [
    "df.shape"
   ]
  },
  {
   "cell_type": "code",
   "execution_count": 14,
   "id": "30dffe52",
   "metadata": {},
   "outputs": [
    {
     "data": {
      "text/html": [
       "<div>\n",
       "<style scoped>\n",
       "    .dataframe tbody tr th:only-of-type {\n",
       "        vertical-align: middle;\n",
       "    }\n",
       "\n",
       "    .dataframe tbody tr th {\n",
       "        vertical-align: top;\n",
       "    }\n",
       "\n",
       "    .dataframe thead th {\n",
       "        text-align: right;\n",
       "    }\n",
       "</style>\n",
       "<table border=\"1\" class=\"dataframe\">\n",
       "  <thead>\n",
       "    <tr style=\"text-align: right;\">\n",
       "      <th></th>\n",
       "      <th>restaurant name</th>\n",
       "      <th>restaurant type</th>\n",
       "      <th>rate (out of 5)</th>\n",
       "      <th>num of ratings</th>\n",
       "      <th>avg cost (two people)</th>\n",
       "      <th>online_order</th>\n",
       "      <th>table booking</th>\n",
       "      <th>cuisines type</th>\n",
       "      <th>area</th>\n",
       "      <th>local address</th>\n",
       "    </tr>\n",
       "  </thead>\n",
       "  <tbody>\n",
       "    <tr>\n",
       "      <th>0</th>\n",
       "      <td>#FeelTheROLL</td>\n",
       "      <td>Quick Bites</td>\n",
       "      <td>3.4</td>\n",
       "      <td>7</td>\n",
       "      <td>200.0</td>\n",
       "      <td>No</td>\n",
       "      <td>No</td>\n",
       "      <td>Fast Food</td>\n",
       "      <td>Bellandur</td>\n",
       "      <td>Bellandur</td>\n",
       "    </tr>\n",
       "    <tr>\n",
       "      <th>1</th>\n",
       "      <td>#L-81 Cafe</td>\n",
       "      <td>Quick Bites</td>\n",
       "      <td>3.9</td>\n",
       "      <td>48</td>\n",
       "      <td>400.0</td>\n",
       "      <td>Yes</td>\n",
       "      <td>No</td>\n",
       "      <td>Fast Food, Beverages</td>\n",
       "      <td>Byresandra,Tavarekere,Madiwala</td>\n",
       "      <td>HSR</td>\n",
       "    </tr>\n",
       "    <tr>\n",
       "      <th>2</th>\n",
       "      <td>#refuel</td>\n",
       "      <td>Cafe</td>\n",
       "      <td>3.7</td>\n",
       "      <td>37</td>\n",
       "      <td>400.0</td>\n",
       "      <td>Yes</td>\n",
       "      <td>No</td>\n",
       "      <td>Cafe, Beverages</td>\n",
       "      <td>Bannerghatta Road</td>\n",
       "      <td>Bannerghatta Road</td>\n",
       "    </tr>\n",
       "    <tr>\n",
       "      <th>3</th>\n",
       "      <td>'@ Biryani Central</td>\n",
       "      <td>Casual Dining</td>\n",
       "      <td>2.7</td>\n",
       "      <td>135</td>\n",
       "      <td>550.0</td>\n",
       "      <td>Yes</td>\n",
       "      <td>No</td>\n",
       "      <td>Biryani, Mughlai, Chinese</td>\n",
       "      <td>Marathahalli</td>\n",
       "      <td>Marathahalli</td>\n",
       "    </tr>\n",
       "    <tr>\n",
       "      <th>4</th>\n",
       "      <td>'@ The Bbq</td>\n",
       "      <td>Casual Dining</td>\n",
       "      <td>2.8</td>\n",
       "      <td>40</td>\n",
       "      <td>700.0</td>\n",
       "      <td>Yes</td>\n",
       "      <td>No</td>\n",
       "      <td>BBQ, Continental, North Indian, Chinese, Bever...</td>\n",
       "      <td>Bellandur</td>\n",
       "      <td>Bellandur</td>\n",
       "    </tr>\n",
       "  </tbody>\n",
       "</table>\n",
       "</div>"
      ],
      "text/plain": [
       "      restaurant name restaurant type  rate (out of 5)  num of ratings  \\\n",
       "0        #FeelTheROLL     Quick Bites              3.4               7   \n",
       "1          #L-81 Cafe     Quick Bites              3.9              48   \n",
       "2             #refuel            Cafe              3.7              37   \n",
       "3  '@ Biryani Central   Casual Dining              2.7             135   \n",
       "4          '@ The Bbq   Casual Dining              2.8              40   \n",
       "\n",
       "   avg cost (two people) online_order table booking  \\\n",
       "0                  200.0           No            No   \n",
       "1                  400.0          Yes            No   \n",
       "2                  400.0          Yes            No   \n",
       "3                  550.0          Yes            No   \n",
       "4                  700.0          Yes            No   \n",
       "\n",
       "                                       cuisines type  \\\n",
       "0                                          Fast Food   \n",
       "1                               Fast Food, Beverages   \n",
       "2                                    Cafe, Beverages   \n",
       "3                          Biryani, Mughlai, Chinese   \n",
       "4  BBQ, Continental, North Indian, Chinese, Bever...   \n",
       "\n",
       "                             area      local address  \n",
       "0                       Bellandur          Bellandur  \n",
       "1  Byresandra,Tavarekere,Madiwala                HSR  \n",
       "2               Bannerghatta Road  Bannerghatta Road  \n",
       "3                    Marathahalli       Marathahalli  \n",
       "4                       Bellandur          Bellandur  "
      ]
     },
     "execution_count": 14,
     "metadata": {},
     "output_type": "execute_result"
    }
   ],
   "source": [
    "df=df.drop(columns='Unnamed: 0.1')\n",
    "df=df.drop(columns='Unnamed: 0')\n",
    "df.head()"
   ]
  },
  {
   "cell_type": "markdown",
   "id": "f4e230e6",
   "metadata": {},
   "source": [
    "# Removing the possible outliers "
   ]
  },
  {
   "cell_type": "code",
   "execution_count": 15,
   "id": "ff87442e",
   "metadata": {},
   "outputs": [
    {
     "data": {
      "text/plain": [
       "Text(0.5, 1.0, 'Box Plot of avg cost')"
      ]
     },
     "execution_count": 15,
     "metadata": {},
     "output_type": "execute_result"
    },
    {
     "data": {
      "image/png": "[encoded data removed]",
      "text/plain": [
       "<Figure size 1800x1000 with 3 Axes>"
      ]
     },
     "metadata": {},
     "output_type": "display_data"
    }
   ],
   "source": [
    "plt.figure(figsize=(18,10))\n",
    "\n",
    "plt.subplot(2,2,1)\n",
    "sns.boxplot(df['rate (out of 5)'])\n",
    "plt.title('Box Plot of rate (out of 5)')\n",
    "\n",
    "plt.subplot(2,2,2)\n",
    "sns.boxplot(df['num of ratings'])\n",
    "plt.title('num of ratings')\n",
    "\n",
    "plt.subplot(2,2,3)\n",
    "sns.boxplot(df['avg cost (two people)'])\n",
    "plt.title('Box Plot of avg cost')\n"
   ]
  },
  {
   "cell_type": "code",
   "execution_count": 16,
   "id": "42d04d15",
   "metadata": {},
   "outputs": [
    {
     "data": {
      "image/png": "[encoded data removed]",
      "text/plain": [
       "<Figure size 1500x2100 with 3 Axes>"
      ]
     },
     "metadata": {},
     "output_type": "display_data"
    }
   ],
   "source": [
    "plt.figure(figsize=(15,21))\n",
    "for i,col in enumerate(['rate (out of 5)','num of ratings','avg cost (two people)']):\n",
    "    plt.subplot(3,2,i+1)\n",
    "    sns.histplot(data=df,x=col,color='red')"
   ]
  },
  {
   "cell_type": "code",
   "execution_count": 17,
   "id": "d982038c",
   "metadata": {},
   "outputs": [
    {
     "name": "stdout",
     "output_type": "stream",
     "text": [
      "0.5999999999999996\n"
     ]
    }
   ],
   "source": [
    "Q1_rate=df['rate (out of 5)'].quantile(0.25)\n",
    "Q3_rate= df['rate (out of 5)'].quantile(0.75)\n",
    "IQR_rate=Q3_rate-Q1_rate\n",
    "print(IQR_rate)\n",
    "lower_bound=Q1_rate - 1.5*IQR_rate\n",
    "upper_bound=Q3_rate + 1.5*IQR_rate\n",
    "df=df[(df['rate (out of 5)']>= lower_bound)&(df['rate (out of 5)']<= upper_bound)]"
   ]
  },
  {
   "cell_type": "code",
   "execution_count": 18,
   "id": "60ad5614",
   "metadata": {},
   "outputs": [
    {
     "name": "stdout",
     "output_type": "stream",
     "text": [
      "112.0\n"
     ]
    }
   ],
   "source": [
    "Q1_num=df['num of ratings'].quantile(0.25)\n",
    "Q3_num= df['num of ratings'].quantile(0.75)\n",
    "IQR_num=Q3_num-Q1_num\n",
    "print(IQR_num)\n",
    "lower_bound1=Q1_num - 1.5*IQR_num\n",
    "upper_bound1=Q3_num + 1.5*IQR_num\n",
    "df=df[(df['num of ratings']>= lower_bound1)&(df['num of ratings']<= upper_bound1)]"
   ]
  },
  {
   "cell_type": "code",
   "execution_count": 19,
   "id": "54e29cf0",
   "metadata": {},
   "outputs": [
    {
     "name": "stdout",
     "output_type": "stream",
     "text": [
      "300.0\n"
     ]
    }
   ],
   "source": [
    "Q1_avg=df['avg cost (two people)'].quantile(0.25)\n",
    "Q3_avg= df['avg cost (two people)'].quantile(0.75)\n",
    "IQR_avg=Q3_avg-Q1_avg\n",
    "print(IQR_avg)\n",
    "lower_bound2=Q1_avg - 1.5*IQR_avg\n",
    "upper_bound2=Q3_avg + 1.5*IQR_avg\n",
    "df=df[(df['avg cost (two people)']>= lower_bound2)&(df['avg cost (two people)']<= upper_bound2)]"
   ]
  },
  {
   "cell_type": "code",
   "execution_count": 20,
   "id": "bf07b5f3",
   "metadata": {},
   "outputs": [
    {
     "data": {
      "text/plain": [
       "(5731, 10)"
      ]
     },
     "execution_count": 20,
     "metadata": {},
     "output_type": "execute_result"
    }
   ],
   "source": [
    "new_shape=df.shape\n",
    "new_shape"
   ]
  },
  {
   "cell_type": "markdown",
   "id": "1f8cebc1",
   "metadata": {},
   "source": [
    "# Insight after remvoing the outliers"
   ]
  },
  {
   "cell_type": "code",
   "execution_count": 21,
   "id": "df9f3bff",
   "metadata": {},
   "outputs": [
    {
     "data": {
      "image/png": "[encoded data removed]",
      "text/plain": [
       "<Figure size 1200x500 with 3 Axes>"
      ]
     },
     "metadata": {},
     "output_type": "display_data"
    }
   ],
   "source": [
    "plt.figure(figsize=(12,5))\n",
    "#distribution of Age and Fare after cleaning\n",
    "plt.subplot(2,2,1)\n",
    "sns.histplot(df['rate (out of 5)'], bins=20, kde=True)\n",
    "plt.title('Distribution of Rate')\n",
    "\n",
    "plt.subplot(2,2,2)\n",
    "sns.histplot(df['num of ratings'], bins=20, kde=True)\n",
    "plt.title('Distribution of number of rating')\n",
    "\n",
    "plt.subplot(2,2,3)\n",
    "sns.histplot(df['avg cost (two people)'], bins=20, kde=True)\n",
    "plt.title('Distribution of average cost')\n",
    "\n",
    "plt.tight_layout()\n",
    "plt.show()"
   ]
  },
  {
   "cell_type": "code",
   "execution_count": 22,
   "id": "ab51e1f7",
   "metadata": {},
   "outputs": [
    {
     "data": {
      "image/png": "[encoded data removed]",
      "text/plain": [
       "<Figure size 1000x800 with 2 Axes>"
      ]
     },
     "metadata": {},
     "output_type": "display_data"
    }
   ],
   "source": [
    "plt.figure(figsize=(10,8))\n",
    "sns.heatmap(df.corr(numeric_only=True), annot=True, cmap='coolwarm', linewidth=0.5)\n",
    "plt.title('Heatmap of given data')\n",
    "plt.show()"
   ]
  },
  {
   "cell_type": "markdown",
   "id": "562eb3a0",
   "metadata": {},
   "source": [
    "# Encoding the categorical variables"
   ]
  },
  {
   "cell_type": "code",
   "execution_count": 23,
   "id": "b3ef3cda",
   "metadata": {},
   "outputs": [
    {
     "name": "stdout",
     "output_type": "stream",
     "text": [
      "['No' 'Yes']\n",
      "['No' 'Yes']\n",
      "['#FeelTheROLL' '#L-81 Cafe' '#refuel' ... \"Zu's Doner Kebaps\" 'Zyara'\n",
      " 'Zyksha']\n"
     ]
    }
   ],
   "source": [
    "print(df['online_order'].unique())\n",
    "print(df['table booking'].unique())\n",
    "print(df['restaurant name'].unique())"
   ]
  },
  {
   "cell_type": "code",
   "execution_count": 24,
   "id": "9fbe006d",
   "metadata": {},
   "outputs": [],
   "source": [
    "df['online_order'] = df['online_order'].str.strip().str.capitalize()\n",
    "df['table booking'] = df['table booking'].str.strip().str.capitalize()\n"
   ]
  },
  {
   "cell_type": "code",
   "execution_count": 25,
   "id": "f9e8f4fa",
   "metadata": {},
   "outputs": [],
   "source": [
    "from sklearn.preprocessing import LabelEncoder\n",
    "label_encoder=LabelEncoder()\n",
    "df['online_order']=df['online_order'].map({'Yes':1,'No':0})\n",
    "df['table booking']=df['table booking'].map({'Yes':1,'No':0})"
   ]
  },
  {
   "cell_type": "code",
   "execution_count": 26,
   "id": "0dc3c20f",
   "metadata": {},
   "outputs": [
    {
     "data": {
      "text/html": [
       "<div>\n",
       "<style scoped>\n",
       "    .dataframe tbody tr th:only-of-type {\n",
       "        vertical-align: middle;\n",
       "    }\n",
       "\n",
       "    .dataframe tbody tr th {\n",
       "        vertical-align: top;\n",
       "    }\n",
       "\n",
       "    .dataframe thead th {\n",
       "        text-align: right;\n",
       "    }\n",
       "</style>\n",
       "<table border=\"1\" class=\"dataframe\">\n",
       "  <thead>\n",
       "    <tr style=\"text-align: right;\">\n",
       "      <th></th>\n",
       "      <th>restaurant name</th>\n",
       "      <th>restaurant type</th>\n",
       "      <th>rate (out of 5)</th>\n",
       "      <th>num of ratings</th>\n",
       "      <th>avg cost (two people)</th>\n",
       "      <th>online_order</th>\n",
       "      <th>table booking</th>\n",
       "      <th>cuisines type</th>\n",
       "      <th>area</th>\n",
       "      <th>local address</th>\n",
       "    </tr>\n",
       "  </thead>\n",
       "  <tbody>\n",
       "    <tr>\n",
       "      <th>0</th>\n",
       "      <td>#FeelTheROLL</td>\n",
       "      <td>Quick Bites</td>\n",
       "      <td>3.4</td>\n",
       "      <td>7</td>\n",
       "      <td>200.0</td>\n",
       "      <td>0</td>\n",
       "      <td>0</td>\n",
       "      <td>Fast Food</td>\n",
       "      <td>Bellandur</td>\n",
       "      <td>Bellandur</td>\n",
       "    </tr>\n",
       "    <tr>\n",
       "      <th>1</th>\n",
       "      <td>#L-81 Cafe</td>\n",
       "      <td>Quick Bites</td>\n",
       "      <td>3.9</td>\n",
       "      <td>48</td>\n",
       "      <td>400.0</td>\n",
       "      <td>1</td>\n",
       "      <td>0</td>\n",
       "      <td>Fast Food, Beverages</td>\n",
       "      <td>Byresandra,Tavarekere,Madiwala</td>\n",
       "      <td>HSR</td>\n",
       "    </tr>\n",
       "    <tr>\n",
       "      <th>2</th>\n",
       "      <td>#refuel</td>\n",
       "      <td>Cafe</td>\n",
       "      <td>3.7</td>\n",
       "      <td>37</td>\n",
       "      <td>400.0</td>\n",
       "      <td>1</td>\n",
       "      <td>0</td>\n",
       "      <td>Cafe, Beverages</td>\n",
       "      <td>Bannerghatta Road</td>\n",
       "      <td>Bannerghatta Road</td>\n",
       "    </tr>\n",
       "    <tr>\n",
       "      <th>3</th>\n",
       "      <td>'@ Biryani Central</td>\n",
       "      <td>Casual Dining</td>\n",
       "      <td>2.7</td>\n",
       "      <td>135</td>\n",
       "      <td>550.0</td>\n",
       "      <td>1</td>\n",
       "      <td>0</td>\n",
       "      <td>Biryani, Mughlai, Chinese</td>\n",
       "      <td>Marathahalli</td>\n",
       "      <td>Marathahalli</td>\n",
       "    </tr>\n",
       "    <tr>\n",
       "      <th>4</th>\n",
       "      <td>'@ The Bbq</td>\n",
       "      <td>Casual Dining</td>\n",
       "      <td>2.8</td>\n",
       "      <td>40</td>\n",
       "      <td>700.0</td>\n",
       "      <td>1</td>\n",
       "      <td>0</td>\n",
       "      <td>BBQ, Continental, North Indian, Chinese, Bever...</td>\n",
       "      <td>Bellandur</td>\n",
       "      <td>Bellandur</td>\n",
       "    </tr>\n",
       "  </tbody>\n",
       "</table>\n",
       "</div>"
      ],
      "text/plain": [
       "      restaurant name restaurant type  rate (out of 5)  num of ratings  \\\n",
       "0        #FeelTheROLL     Quick Bites              3.4               7   \n",
       "1          #L-81 Cafe     Quick Bites              3.9              48   \n",
       "2             #refuel            Cafe              3.7              37   \n",
       "3  '@ Biryani Central   Casual Dining              2.7             135   \n",
       "4          '@ The Bbq   Casual Dining              2.8              40   \n",
       "\n",
       "   avg cost (two people)  online_order  table booking  \\\n",
       "0                  200.0             0              0   \n",
       "1                  400.0             1              0   \n",
       "2                  400.0             1              0   \n",
       "3                  550.0             1              0   \n",
       "4                  700.0             1              0   \n",
       "\n",
       "                                       cuisines type  \\\n",
       "0                                          Fast Food   \n",
       "1                               Fast Food, Beverages   \n",
       "2                                    Cafe, Beverages   \n",
       "3                          Biryani, Mughlai, Chinese   \n",
       "4  BBQ, Continental, North Indian, Chinese, Bever...   \n",
       "\n",
       "                             area      local address  \n",
       "0                       Bellandur          Bellandur  \n",
       "1  Byresandra,Tavarekere,Madiwala                HSR  \n",
       "2               Bannerghatta Road  Bannerghatta Road  \n",
       "3                    Marathahalli       Marathahalli  \n",
       "4                       Bellandur          Bellandur  "
      ]
     },
     "execution_count": 26,
     "metadata": {},
     "output_type": "execute_result"
    }
   ],
   "source": [
    "df.head()"
   ]
  },
  {
   "cell_type": "markdown",
   "id": "d126f686",
   "metadata": {},
   "source": [
    "# Split the Data into Training and Testing Sets"
   ]
  },
  {
   "cell_type": "code",
   "execution_count": 27,
   "id": "2b48a282",
   "metadata": {},
   "outputs": [],
   "source": [
    "X = df.drop(columns=['rate (out of 5)', 'restaurant name', 'restaurant type','area', 'cuisines type', 'local address'])\n",
    "y = df['rate (out of 5)']\n",
    "X_train, X_test, y_train, y_test = train_test_split(X, y, test_size=0.2, random_state=42)"
   ]
  },
  {
   "cell_type": "code",
   "execution_count": 28,
   "id": "d4b5e498",
   "metadata": {},
   "outputs": [
    {
     "data": {
      "text/plain": [
       "((4584, 4), (1147, 4))"
      ]
     },
     "execution_count": 28,
     "metadata": {},
     "output_type": "execute_result"
    }
   ],
   "source": [
    "X_train.shape, X_test.shape"
   ]
  },
  {
   "cell_type": "markdown",
   "id": "9489b071",
   "metadata": {},
   "source": [
    "# Applying the linear regression model"
   ]
  },
  {
   "cell_type": "code",
   "execution_count": 29,
   "id": "40f18775",
   "metadata": {},
   "outputs": [
    {
     "data": {
      "text/html": [
       "<style>#sk-container-id-1 {color: black;}#sk-container-id-1 pre{padding: 0;}#sk-container-id-1 div.sk-toggleable {background-color: white;}#sk-container-id-1 label.sk-toggleable__label {cursor: pointer;display: block;width: 100%;margin-bottom: 0;padding: 0.3em;box-sizing: border-box;text-align: center;}#sk-container-id-1 label.sk-toggleable__label-arrow:before {content: \"▸\";float: left;margin-right: 0.25em;color: #696969;}#sk-container-id-1 label.sk-toggleable__label-arrow:hover:before {color: black;}#sk-container-id-1 div.sk-estimator:hover label.sk-toggleable__label-arrow:before {color: black;}#sk-container-id-1 div.sk-toggleable__content {max-height: 0;max-width: 0;overflow: hidden;text-align: left;background-color: #f0f8ff;}#sk-container-id-1 div.sk-toggleable__content pre {margin: 0.2em;color: black;border-radius: 0.25em;background-color: #f0f8ff;}#sk-container-id-1 input.sk-toggleable__control:checked~div.sk-toggleable__content {max-height: 200px;max-width: 100%;overflow: auto;}#sk-container-id-1 input.sk-toggleable__control:checked~label.sk-toggleable__label-arrow:before {content: \"▾\";}#sk-container-id-1 div.sk-estimator input.sk-toggleable__control:checked~label.sk-toggleable__label {background-color: #d4ebff;}#sk-container-id-1 div.sk-label input.sk-toggleable__control:checked~label.sk-toggleable__label {background-color: #d4ebff;}#sk-container-id-1 input.sk-hidden--visually {border: 0;clip: rect(1px 1px 1px 1px);clip: rect(1px, 1px, 1px, 1px);height: 1px;margin: -1px;overflow: hidden;padding: 0;position: absolute;width: 1px;}#sk-container-id-1 div.sk-estimator {font-family: monospace;background-color: #f0f8ff;border: 1px dotted black;border-radius: 0.25em;box-sizing: border-box;margin-bottom: 0.5em;}#sk-container-id-1 div.sk-estimator:hover {background-color: #d4ebff;}#sk-container-id-1 div.sk-parallel-item::after {content: \"\";width: 100%;border-bottom: 1px solid gray;flex-grow: 1;}#sk-container-id-1 div.sk-label:hover label.sk-toggleable__label {background-color: #d4ebff;}#sk-container-id-1 div.sk-serial::before {content: \"\";position: absolute;border-left: 1px solid gray;box-sizing: border-box;top: 0;bottom: 0;left: 50%;z-index: 0;}#sk-container-id-1 div.sk-serial {display: flex;flex-direction: column;align-items: center;background-color: white;padding-right: 0.2em;padding-left: 0.2em;position: relative;}#sk-container-id-1 div.sk-item {position: relative;z-index: 1;}#sk-container-id-1 div.sk-parallel {display: flex;align-items: stretch;justify-content: center;background-color: white;position: relative;}#sk-container-id-1 div.sk-item::before, #sk-container-id-1 div.sk-parallel-item::before {content: \"\";position: absolute;border-left: 1px solid gray;box-sizing: border-box;top: 0;bottom: 0;left: 50%;z-index: -1;}#sk-container-id-1 div.sk-parallel-item {display: flex;flex-direction: column;z-index: 1;position: relative;background-color: white;}#sk-container-id-1 div.sk-parallel-item:first-child::after {align-self: flex-end;width: 50%;}#sk-container-id-1 div.sk-parallel-item:last-child::after {align-self: flex-start;width: 50%;}#sk-container-id-1 div.sk-parallel-item:only-child::after {width: 0;}#sk-container-id-1 div.sk-dashed-wrapped {border: 1px dashed gray;margin: 0 0.4em 0.5em 0.4em;box-sizing: border-box;padding-bottom: 0.4em;background-color: white;}#sk-container-id-1 div.sk-label label {font-family: monospace;font-weight: bold;display: inline-block;line-height: 1.2em;}#sk-container-id-1 div.sk-label-container {text-align: center;}#sk-container-id-1 div.sk-container {/* jupyter's `normalize.less` sets `[hidden] { display: none; }` but bootstrap.min.css set `[hidden] { display: none !important; }` so we also need the `!important` here to be able to override the default hidden behavior on the sphinx rendered scikit-learn.org. See: https://github.com/scikit-learn/scikit-learn/issues/21755 */display: inline-block !important;position: relative;}#sk-container-id-1 div.sk-text-repr-fallback {display: none;}</style><div id=\"sk-container-id-1\" class=\"sk-top-container\"><div class=\"sk-text-repr-fallback\"><pre>LinearRegression()</pre><b>In a Jupyter environment, please rerun this cell to show the HTML representation or trust the notebook. <br />On GitHub, the HTML representation is unable to render, please try loading this page with nbviewer.org.</b></div><div class=\"sk-container\" hidden><div class=\"sk-item\"><div class=\"sk-estimator sk-toggleable\"><input class=\"sk-toggleable__control sk-hidden--visually\" id=\"sk-estimator-id-1\" type=\"checkbox\" checked><label for=\"sk-estimator-id-1\" class=\"sk-toggleable__label sk-toggleable__label-arrow\">LinearRegression</label><div class=\"sk-toggleable__content\"><pre>LinearRegression()</pre></div></div></div></div></div>"
      ],
      "text/plain": [
       "LinearRegression()"
      ]
     },
     "execution_count": 29,
     "metadata": {},
     "output_type": "execute_result"
    }
   ],
   "source": [
    "model = LinearRegression()\n",
    "model.fit(X_train, y_train)"
   ]
  },
  {
   "cell_type": "code",
   "execution_count": 30,
   "id": "90152c75",
   "metadata": {
    "scrolled": true
   },
   "outputs": [],
   "source": [
    "y_pred = model.predict(X_test)"
   ]
  },
  {
   "cell_type": "code",
   "execution_count": 31,
   "id": "6e532b37",
   "metadata": {},
   "outputs": [
    {
     "ename": "NameError",
     "evalue": "name 'r2_score' is not defined",
     "output_type": "error",
     "traceback": [
      "\u001b[1;31m---------------------------------------------------------------------------\u001b[0m",
      "\u001b[1;31mNameError\u001b[0m                                 Traceback (most recent call last)",
      "Cell \u001b[1;32mIn[31], line 3\u001b[0m\n\u001b[0;32m      1\u001b[0m mse \u001b[38;5;241m=\u001b[39m mean_squared_error(y_test, y_pred)\n\u001b[0;32m      2\u001b[0m rmse \u001b[38;5;241m=\u001b[39m mse \u001b[38;5;241m*\u001b[39m\u001b[38;5;241m*\u001b[39m \u001b[38;5;241m0.5\u001b[39m\n\u001b[1;32m----> 3\u001b[0m r2 \u001b[38;5;241m=\u001b[39m r2_score(y_test, y_pred)\n\u001b[0;32m      4\u001b[0m mse, rmse, r2\n",
      "\u001b[1;31mNameError\u001b[0m: name 'r2_score' is not defined"
     ]
    }
   ],
   "source": [
    "mse = mean_squared_error(y_test, y_pred)\n",
    "rmse = mse ** 0.5\n",
    "r2 = r2_score(y_test, y_pred)\n",
    "mse, rmse, r2"
   ]
  },
  {
   "cell_type": "markdown",
   "id": "85b98d81",
   "metadata": {},
   "source": [
    "# Insight to get better view of predicted and actual ratings"
   ]
  },
  {
   "cell_type": "code",
   "execution_count": null,
   "id": "4913e5b8",
   "metadata": {
    "scrolled": true
   },
   "outputs": [],
   "source": [
    "plt.figure(figsize=(14, 7))\n",
    "plt.plot(y_test.values[:100], label='Actual Ratings', marker='o')\n",
    "plt.plot(y_pred[:100], label='Predicted Ratings', marker='x')\n",
    "plt.title('Actual vs Predicted Ratings')\n",
    "plt.xlabel('Sample Index')\n",
    "plt.ylabel('Rating (out of 5)')\n",
    "plt.legend()\n",
    "plt.show()"
   ]
  },
  {
   "cell_type": "code",
   "execution_count": null,
   "id": "be560607",
   "metadata": {},
   "outputs": [],
   "source": [
    "coef = pd.Series(model.coef_, index=X.columns)\n",
    "print(coef.sort_values(ascending=False))\n",
    "\n",
    "plt.scatter(y_test, y_pred)\n",
    "plt.xlabel('Actual Prices')\n",
    "plt.ylabel('Predicted Prices')\n",
    "plt.title('Actual vs Predicted Prices')\n",
    "plt.show()\n",
    "\n",
    "residuals = y_test - y_pred\n",
    "sns.histplot(residuals, kde=True)\n",
    "plt.title('Residuals Distribution')\n",
    "plt.show()"
   ]
  },
  {
   "cell_type": "code",
   "execution_count": null,
   "id": "e60d6190",
   "metadata": {},
   "outputs": [],
   "source": [
    "joblib.dump(model, 'linear_regression_model.pkl')"
   ]
  },
  {
   "cell_type": "code",
   "execution_count": null,
   "id": "feb1d361",
   "metadata": {},
   "outputs": [],
   "source": []
  }
 ],
 "metadata": {
  "kernelspec": {
   "display_name": "Python 3 (ipykernel)",
   "language": "python",
   "name": "python3"
  },
  "language_info": {
   "codemirror_mode": {
    "name": "ipython",
    "version": 3
   },
   "file_extension": ".py",
   "mimetype": "text/x-python",
   "name": "python",
   "nbconvert_exporter": "python",
   "pygments_lexer": "ipython3",
   "version": "3.11.4"
  }
 },
 "nbformat": 4,
 "nbformat_minor": 5
}
